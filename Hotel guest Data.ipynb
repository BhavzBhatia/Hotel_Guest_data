{
 "cells": [
  {
   "cell_type": "code",
   "execution_count": 1,
   "id": "20999e49",
   "metadata": {},
   "outputs": [],
   "source": [
    "import pandas as pd\n",
    "import numpy as np\n",
    "import matplotlib as plt\n",
    "import seaborn as sns"
   ]
  },
  {
   "cell_type": "code",
   "execution_count": 38,
   "id": "be144c8c",
   "metadata": {},
   "outputs": [
    {
     "data": {
      "text/html": [
       "<div>\n",
       "<style scoped>\n",
       "    .dataframe tbody tr th:only-of-type {\n",
       "        vertical-align: middle;\n",
       "    }\n",
       "\n",
       "    .dataframe tbody tr th {\n",
       "        vertical-align: top;\n",
       "    }\n",
       "\n",
       "    .dataframe thead th {\n",
       "        text-align: right;\n",
       "    }\n",
       "</style>\n",
       "<table border=\"1\" class=\"dataframe\">\n",
       "  <thead>\n",
       "    <tr style=\"text-align: right;\">\n",
       "      <th></th>\n",
       "      <th>Unnamed: 0</th>\n",
       "      <th>guest_email</th>\n",
       "      <th>has_rewards</th>\n",
       "      <th>room_type</th>\n",
       "      <th>amenities_fee</th>\n",
       "      <th>checkin_date</th>\n",
       "      <th>checkout_date</th>\n",
       "      <th>room_rate</th>\n",
       "      <th>billing_address</th>\n",
       "      <th>credit_card_number</th>\n",
       "    </tr>\n",
       "  </thead>\n",
       "  <tbody>\n",
       "    <tr>\n",
       "      <th>0</th>\n",
       "      <td>0</td>\n",
       "      <td>dsullivan@example.net</td>\n",
       "      <td>False</td>\n",
       "      <td>BASIC</td>\n",
       "      <td>8.324971</td>\n",
       "      <td>04 Apr 2020</td>\n",
       "      <td>23 Apr 2020</td>\n",
       "      <td>146.834507</td>\n",
       "      <td>90469 Karla Knolls Apt. 781\\nSusanberg, NC 28401</td>\n",
       "      <td>5161033759518983</td>\n",
       "    </tr>\n",
       "    <tr>\n",
       "      <th>1</th>\n",
       "      <td>1</td>\n",
       "      <td>steven59@example.org</td>\n",
       "      <td>False</td>\n",
       "      <td>BASIC</td>\n",
       "      <td>NaN</td>\n",
       "      <td>27 Jun 2020</td>\n",
       "      <td>16 Aug 2020</td>\n",
       "      <td>185.497813</td>\n",
       "      <td>1080 Ashley Creek Apt. 622\\nWest Amy, NM 25058</td>\n",
       "      <td>4133047413145475690</td>\n",
       "    </tr>\n",
       "    <tr>\n",
       "      <th>2</th>\n",
       "      <td>2</td>\n",
       "      <td>brandon15@example.net</td>\n",
       "      <td>False</td>\n",
       "      <td>BASIC</td>\n",
       "      <td>22.269158</td>\n",
       "      <td>13 Apr 2020</td>\n",
       "      <td>07 Apr 2020</td>\n",
       "      <td>151.115528</td>\n",
       "      <td>99923 Anderson Trace Suite 861\\nNorth Haley, T...</td>\n",
       "      <td>4977328103788</td>\n",
       "    </tr>\n",
       "    <tr>\n",
       "      <th>3</th>\n",
       "      <td>3</td>\n",
       "      <td>humphreyjennifer@example.net</td>\n",
       "      <td>False</td>\n",
       "      <td>BASIC</td>\n",
       "      <td>25.468647</td>\n",
       "      <td>22 May 2020</td>\n",
       "      <td>08 Jun 2020</td>\n",
       "      <td>182.468031</td>\n",
       "      <td>9301 John Parkways\\nThomasland, OH 61350</td>\n",
       "      <td>3524946844839485</td>\n",
       "    </tr>\n",
       "    <tr>\n",
       "      <th>4</th>\n",
       "      <td>4</td>\n",
       "      <td>joshuabrown@example.net</td>\n",
       "      <td>False</td>\n",
       "      <td>BASIC</td>\n",
       "      <td>19.778311</td>\n",
       "      <td>14 Nov 2019</td>\n",
       "      <td>27 Oct 2019</td>\n",
       "      <td>195.497743</td>\n",
       "      <td>126 George Tunnel\\nDuranstad, MS 95176</td>\n",
       "      <td>4446905799576890978</td>\n",
       "    </tr>\n",
       "  </tbody>\n",
       "</table>\n",
       "</div>"
      ],
      "text/plain": [
       "   Unnamed: 0                   guest_email  has_rewards room_type  \\\n",
       "0           0         dsullivan@example.net        False     BASIC   \n",
       "1           1          steven59@example.org        False     BASIC   \n",
       "2           2         brandon15@example.net        False     BASIC   \n",
       "3           3  humphreyjennifer@example.net        False     BASIC   \n",
       "4           4       joshuabrown@example.net        False     BASIC   \n",
       "\n",
       "   amenities_fee checkin_date checkout_date   room_rate  \\\n",
       "0       8.324971  04 Apr 2020   23 Apr 2020  146.834507   \n",
       "1            NaN  27 Jun 2020   16 Aug 2020  185.497813   \n",
       "2      22.269158  13 Apr 2020   07 Apr 2020  151.115528   \n",
       "3      25.468647  22 May 2020   08 Jun 2020  182.468031   \n",
       "4      19.778311  14 Nov 2019   27 Oct 2019  195.497743   \n",
       "\n",
       "                                     billing_address   credit_card_number  \n",
       "0   90469 Karla Knolls Apt. 781\\nSusanberg, NC 28401     5161033759518983  \n",
       "1     1080 Ashley Creek Apt. 622\\nWest Amy, NM 25058  4133047413145475690  \n",
       "2  99923 Anderson Trace Suite 861\\nNorth Haley, T...        4977328103788  \n",
       "3           9301 John Parkways\\nThomasland, OH 61350     3524946844839485  \n",
       "4             126 George Tunnel\\nDuranstad, MS 95176  4446905799576890978  "
      ]
     },
     "execution_count": 38,
     "metadata": {},
     "output_type": "execute_result"
    }
   ],
   "source": [
    "df = pd.read_csv(\"hotel_guests_dataset.csv\")\n",
    "\n",
    "df.head()"
   ]
  },
  {
   "cell_type": "code",
   "execution_count": 3,
   "id": "da6a6799",
   "metadata": {},
   "outputs": [
    {
     "name": "stdout",
     "output_type": "stream",
     "text": [
      "<class 'pandas.core.frame.DataFrame'>\n",
      "RangeIndex: 2000 entries, 0 to 1999\n",
      "Data columns (total 10 columns):\n",
      " #   Column              Non-Null Count  Dtype  \n",
      "---  ------              --------------  -----  \n",
      " 0   Unnamed: 0          2000 non-null   int64  \n",
      " 1   guest_email         2000 non-null   object \n",
      " 2   has_rewards         2000 non-null   bool   \n",
      " 3   room_type           2000 non-null   object \n",
      " 4   amenities_fee       1816 non-null   float64\n",
      " 5   checkin_date        2000 non-null   object \n",
      " 6   checkout_date       1931 non-null   object \n",
      " 7   room_rate           2000 non-null   float64\n",
      " 8   billing_address     2000 non-null   object \n",
      " 9   credit_card_number  2000 non-null   int64  \n",
      "dtypes: bool(1), float64(2), int64(2), object(5)\n",
      "memory usage: 142.7+ KB\n"
     ]
    }
   ],
   "source": [
    "df.info()"
   ]
  },
  {
   "cell_type": "code",
   "execution_count": 4,
   "id": "2e743fad",
   "metadata": {},
   "outputs": [
    {
     "data": {
      "text/html": [
       "<div>\n",
       "<style scoped>\n",
       "    .dataframe tbody tr th:only-of-type {\n",
       "        vertical-align: middle;\n",
       "    }\n",
       "\n",
       "    .dataframe tbody tr th {\n",
       "        vertical-align: top;\n",
       "    }\n",
       "\n",
       "    .dataframe thead th {\n",
       "        text-align: right;\n",
       "    }\n",
       "</style>\n",
       "<table border=\"1\" class=\"dataframe\">\n",
       "  <thead>\n",
       "    <tr style=\"text-align: right;\">\n",
       "      <th></th>\n",
       "      <th>Unnamed: 0</th>\n",
       "      <th>amenities_fee</th>\n",
       "      <th>room_rate</th>\n",
       "      <th>credit_card_number</th>\n",
       "    </tr>\n",
       "  </thead>\n",
       "  <tbody>\n",
       "    <tr>\n",
       "      <th>count</th>\n",
       "      <td>2000.000000</td>\n",
       "      <td>1816.000000</td>\n",
       "      <td>2000.000000</td>\n",
       "      <td>2.000000e+03</td>\n",
       "    </tr>\n",
       "    <tr>\n",
       "      <th>mean</th>\n",
       "      <td>999.500000</td>\n",
       "      <td>18.625723</td>\n",
       "      <td>156.397620</td>\n",
       "      <td>3.529920e+17</td>\n",
       "    </tr>\n",
       "    <tr>\n",
       "      <th>std</th>\n",
       "      <td>577.494589</td>\n",
       "      <td>9.900830</td>\n",
       "      <td>50.793336</td>\n",
       "      <td>1.212466e+18</td>\n",
       "    </tr>\n",
       "    <tr>\n",
       "      <th>min</th>\n",
       "      <td>0.000000</td>\n",
       "      <td>0.000000</td>\n",
       "      <td>83.800000</td>\n",
       "      <td>6.040371e+10</td>\n",
       "    </tr>\n",
       "    <tr>\n",
       "      <th>25%</th>\n",
       "      <td>499.750000</td>\n",
       "      <td>11.897006</td>\n",
       "      <td>115.704236</td>\n",
       "      <td>3.674461e+13</td>\n",
       "    </tr>\n",
       "    <tr>\n",
       "      <th>50%</th>\n",
       "      <td>999.500000</td>\n",
       "      <td>18.334560</td>\n",
       "      <td>153.181718</td>\n",
       "      <td>3.514294e+15</td>\n",
       "    </tr>\n",
       "    <tr>\n",
       "      <th>75%</th>\n",
       "      <td>1499.250000</td>\n",
       "      <td>25.566208</td>\n",
       "      <td>192.001124</td>\n",
       "      <td>4.583879e+15</td>\n",
       "    </tr>\n",
       "    <tr>\n",
       "      <th>max</th>\n",
       "      <td>1999.000000</td>\n",
       "      <td>47.478848</td>\n",
       "      <td>345.459749</td>\n",
       "      <td>4.984532e+18</td>\n",
       "    </tr>\n",
       "  </tbody>\n",
       "</table>\n",
       "</div>"
      ],
      "text/plain": [
       "        Unnamed: 0  amenities_fee    room_rate  credit_card_number\n",
       "count  2000.000000    1816.000000  2000.000000        2.000000e+03\n",
       "mean    999.500000      18.625723   156.397620        3.529920e+17\n",
       "std     577.494589       9.900830    50.793336        1.212466e+18\n",
       "min       0.000000       0.000000    83.800000        6.040371e+10\n",
       "25%     499.750000      11.897006   115.704236        3.674461e+13\n",
       "50%     999.500000      18.334560   153.181718        3.514294e+15\n",
       "75%    1499.250000      25.566208   192.001124        4.583879e+15\n",
       "max    1999.000000      47.478848   345.459749        4.984532e+18"
      ]
     },
     "execution_count": 4,
     "metadata": {},
     "output_type": "execute_result"
    }
   ],
   "source": [
    "df.describe()"
   ]
  },
  {
   "cell_type": "code",
   "execution_count": 12,
   "id": "7ee527d1",
   "metadata": {},
   "outputs": [
    {
     "name": "stderr",
     "output_type": "stream",
     "text": [
      "C:\\Users\\Bhavya\\anaconda3\\lib\\site-packages\\seaborn\\_decorators.py:36: FutureWarning: Pass the following variable as a keyword arg: x. From version 0.12, the only valid positional argument will be `data`, and passing other arguments without an explicit keyword will result in an error or misinterpretation.\n",
      "  warnings.warn(\n"
     ]
    },
    {
     "data": {
      "text/plain": [
       "<AxesSubplot:xlabel='has_rewards', ylabel='count'>"
      ]
     },
     "execution_count": 12,
     "metadata": {},
     "output_type": "execute_result"
    },
    {
     "data": {
      "image/png": "[encoded data removed]",
      "text/plain": [
       "<Figure size 640x480 with 1 Axes>"
      ]
     },
     "metadata": {},
     "output_type": "display_data"
    }
   ],
   "source": [
    "sns.countplot(df.has_rewards, color = 'violet')"
   ]
  },
  {
   "cell_type": "code",
   "execution_count": 14,
   "id": "6ba5b63d",
   "metadata": {},
   "outputs": [
    {
     "name": "stderr",
     "output_type": "stream",
     "text": [
      "C:\\Users\\Bhavya\\anaconda3\\lib\\site-packages\\seaborn\\_decorators.py:36: FutureWarning: Pass the following variable as a keyword arg: x. From version 0.12, the only valid positional argument will be `data`, and passing other arguments without an explicit keyword will result in an error or misinterpretation.\n",
      "  warnings.warn(\n"
     ]
    },
    {
     "data": {
      "text/plain": [
       "<AxesSubplot:xlabel='room_type', ylabel='count'>"
      ]
     },
     "execution_count": 14,
     "metadata": {},
     "output_type": "execute_result"
    },
    {
     "data": {
      "image/png": "[encoded data removed]",
      "text/plain": [
       "<Figure size 640x480 with 1 Axes>"
      ]
     },
     "metadata": {},
     "output_type": "display_data"
    }
   ],
   "source": [
    "sns.countplot(df.room_type, color = 'yellow')"
   ]
  },
  {
   "cell_type": "code",
   "execution_count": 39,
   "id": "d66404f3",
   "metadata": {},
   "outputs": [],
   "source": [
    "df.drop(['Unnamed: 0','guest_email','checkin_date','checkout_date','billing_address','credit_card_number'],\n",
    "         inplace=True, axis=1)"
   ]
  },
  {
   "cell_type": "code",
   "execution_count": 40,
   "id": "1b721a5f",
   "metadata": {},
   "outputs": [
    {
     "data": {
      "text/html": [
       "<div>\n",
       "<style scoped>\n",
       "    .dataframe tbody tr th:only-of-type {\n",
       "        vertical-align: middle;\n",
       "    }\n",
       "\n",
       "    .dataframe tbody tr th {\n",
       "        vertical-align: top;\n",
       "    }\n",
       "\n",
       "    .dataframe thead th {\n",
       "        text-align: right;\n",
       "    }\n",
       "</style>\n",
       "<table border=\"1\" class=\"dataframe\">\n",
       "  <thead>\n",
       "    <tr style=\"text-align: right;\">\n",
       "      <th></th>\n",
       "      <th>has_rewards</th>\n",
       "      <th>room_type</th>\n",
       "      <th>amenities_fee</th>\n",
       "      <th>room_rate</th>\n",
       "    </tr>\n",
       "  </thead>\n",
       "  <tbody>\n",
       "    <tr>\n",
       "      <th>0</th>\n",
       "      <td>False</td>\n",
       "      <td>BASIC</td>\n",
       "      <td>8.324971</td>\n",
       "      <td>146.834507</td>\n",
       "    </tr>\n",
       "    <tr>\n",
       "      <th>1</th>\n",
       "      <td>False</td>\n",
       "      <td>BASIC</td>\n",
       "      <td>NaN</td>\n",
       "      <td>185.497813</td>\n",
       "    </tr>\n",
       "    <tr>\n",
       "      <th>2</th>\n",
       "      <td>False</td>\n",
       "      <td>BASIC</td>\n",
       "      <td>22.269158</td>\n",
       "      <td>151.115528</td>\n",
       "    </tr>\n",
       "    <tr>\n",
       "      <th>3</th>\n",
       "      <td>False</td>\n",
       "      <td>BASIC</td>\n",
       "      <td>25.468647</td>\n",
       "      <td>182.468031</td>\n",
       "    </tr>\n",
       "    <tr>\n",
       "      <th>4</th>\n",
       "      <td>False</td>\n",
       "      <td>BASIC</td>\n",
       "      <td>19.778311</td>\n",
       "      <td>195.497743</td>\n",
       "    </tr>\n",
       "  </tbody>\n",
       "</table>\n",
       "</div>"
      ],
      "text/plain": [
       "   has_rewards room_type  amenities_fee   room_rate\n",
       "0        False     BASIC       8.324971  146.834507\n",
       "1        False     BASIC            NaN  185.497813\n",
       "2        False     BASIC      22.269158  151.115528\n",
       "3        False     BASIC      25.468647  182.468031\n",
       "4        False     BASIC      19.778311  195.497743"
      ]
     },
     "execution_count": 40,
     "metadata": {},
     "output_type": "execute_result"
    }
   ],
   "source": [
    "df.head()"
   ]
  },
  {
   "cell_type": "code",
   "execution_count": 41,
   "id": "3e270597",
   "metadata": {},
   "outputs": [],
   "source": [
    "df[\"amenities_fee\"].fillna(value = df[\"amenities_fee\"].mean(), inplace = True)"
   ]
  },
  {
   "cell_type": "code",
   "execution_count": 42,
   "id": "ba12de4b",
   "metadata": {},
   "outputs": [],
   "source": [
    "#df.has_rewards = df.has_rewards.map({\"False\" : 0 , \"True\" : 1})"
   ]
  },
  {
   "cell_type": "code",
   "execution_count": 43,
   "id": "39e435a4",
   "metadata": {},
   "outputs": [
    {
     "data": {
      "text/plain": [
       "array(['BASIC', 'SUITE', 'DELUXE'], dtype=object)"
      ]
     },
     "execution_count": 43,
     "metadata": {},
     "output_type": "execute_result"
    }
   ],
   "source": [
    "df.room_type.unique()"
   ]
  },
  {
   "cell_type": "code",
   "execution_count": 44,
   "id": "b17f6539",
   "metadata": {},
   "outputs": [],
   "source": [
    "#df.room_type = df.room_type.map({\"Basic\" : 0 , \"Suite\" : 1, \"Deluxe\" : 2})"
   ]
  },
  {
   "cell_type": "code",
   "execution_count": 45,
   "id": "9fa666e6",
   "metadata": {},
   "outputs": [],
   "source": [
    "df.has_rewards.replace([True, False], [1,0], inplace = True)"
   ]
  },
  {
   "cell_type": "code",
   "execution_count": 46,
   "id": "70303911",
   "metadata": {},
   "outputs": [],
   "source": [
    "df.room_type.replace(['BASIC', 'SUITE', 'DELUXE'], [0,1,2], inplace = True)"
   ]
  },
  {
   "cell_type": "code",
   "execution_count": 47,
   "id": "eb7af0da",
   "metadata": {},
   "outputs": [
    {
     "data": {
      "text/html": [
       "<div>\n",
       "<style scoped>\n",
       "    .dataframe tbody tr th:only-of-type {\n",
       "        vertical-align: middle;\n",
       "    }\n",
       "\n",
       "    .dataframe tbody tr th {\n",
       "        vertical-align: top;\n",
       "    }\n",
       "\n",
       "    .dataframe thead th {\n",
       "        text-align: right;\n",
       "    }\n",
       "</style>\n",
       "<table border=\"1\" class=\"dataframe\">\n",
       "  <thead>\n",
       "    <tr style=\"text-align: right;\">\n",
       "      <th></th>\n",
       "      <th>has_rewards</th>\n",
       "      <th>room_type</th>\n",
       "      <th>amenities_fee</th>\n",
       "      <th>room_rate</th>\n",
       "    </tr>\n",
       "  </thead>\n",
       "  <tbody>\n",
       "    <tr>\n",
       "      <th>0</th>\n",
       "      <td>0</td>\n",
       "      <td>0</td>\n",
       "      <td>8.324971</td>\n",
       "      <td>146.834507</td>\n",
       "    </tr>\n",
       "    <tr>\n",
       "      <th>1</th>\n",
       "      <td>0</td>\n",
       "      <td>0</td>\n",
       "      <td>18.625723</td>\n",
       "      <td>185.497813</td>\n",
       "    </tr>\n",
       "    <tr>\n",
       "      <th>2</th>\n",
       "      <td>0</td>\n",
       "      <td>0</td>\n",
       "      <td>22.269158</td>\n",
       "      <td>151.115528</td>\n",
       "    </tr>\n",
       "    <tr>\n",
       "      <th>3</th>\n",
       "      <td>0</td>\n",
       "      <td>0</td>\n",
       "      <td>25.468647</td>\n",
       "      <td>182.468031</td>\n",
       "    </tr>\n",
       "    <tr>\n",
       "      <th>4</th>\n",
       "      <td>0</td>\n",
       "      <td>0</td>\n",
       "      <td>19.778311</td>\n",
       "      <td>195.497743</td>\n",
       "    </tr>\n",
       "  </tbody>\n",
       "</table>\n",
       "</div>"
      ],
      "text/plain": [
       "   has_rewards  room_type  amenities_fee   room_rate\n",
       "0            0          0       8.324971  146.834507\n",
       "1            0          0      18.625723  185.497813\n",
       "2            0          0      22.269158  151.115528\n",
       "3            0          0      25.468647  182.468031\n",
       "4            0          0      19.778311  195.497743"
      ]
     },
     "execution_count": 47,
     "metadata": {},
     "output_type": "execute_result"
    }
   ],
   "source": [
    "df.head()"
   ]
  },
  {
   "cell_type": "code",
   "execution_count": 48,
   "id": "0aed5542",
   "metadata": {},
   "outputs": [],
   "source": [
    "x = df.drop(['has_rewards'], axis =1)\n",
    "y = df.has_rewards"
   ]
  },
  {
   "cell_type": "code",
   "execution_count": 53,
   "id": "bdc74a7d",
   "metadata": {},
   "outputs": [],
   "source": [
    "from sklearn.model_selection import train_test_split\n",
    "x_train,x_test,y_train,y_test = train_test_split(x,y, train_size = 0.6)"
   ]
  },
  {
   "cell_type": "code",
   "execution_count": 61,
   "id": "16267f31",
   "metadata": {},
   "outputs": [],
   "source": [
    "from sklearn.linear_model import LogisticRegression\n",
    "LR = LogisticRegression()\n",
    "\n",
    "lr = LR.fit(x_train, y_train)\n",
    "y_pred = LR.predict(x_test)\n",
    "y_pred_train = LR.predict(x_train)"
   ]
  },
  {
   "cell_type": "code",
   "execution_count": 62,
   "id": "a48a8348",
   "metadata": {},
   "outputs": [
    {
     "name": "stdout",
     "output_type": "stream",
     "text": [
      "For Test Data : \n",
      "              precision    recall  f1-score   support\n",
      "\n",
      "           0       0.98      0.83      0.90       780\n",
      "           1       0.06      0.40      0.10        20\n",
      "\n",
      "    accuracy                           0.82       800\n",
      "   macro avg       0.52      0.62      0.50       800\n",
      "weighted avg       0.96      0.82      0.88       800\n",
      "\n",
      "\n",
      "For Train Data : \n",
      "              precision    recall  f1-score   support\n",
      "\n",
      "           0       0.99      0.82      0.90      1179\n",
      "           1       0.04      0.43      0.07        21\n",
      "\n",
      "    accuracy                           0.81      1200\n",
      "   macro avg       0.51      0.62      0.49      1200\n",
      "weighted avg       0.97      0.81      0.88      1200\n",
      "\n"
     ]
    }
   ],
   "source": [
    "from sklearn.metrics import classification_report\n",
    "\n",
    "print(\"For Test Data : \")\n",
    "print(classification_report(y_pred, y_test))\n",
    "print(\"\\nFor Train Data : \")\n",
    "print(classification_report(y_pred_train, y_train))\n"
   ]
  },
  {
   "cell_type": "code",
   "execution_count": 63,
   "id": "32d35b15",
   "metadata": {},
   "outputs": [
    {
     "name": "stdout",
     "output_type": "stream",
     "text": [
      "Accuracy of Linear Regression :  0.8225\n"
     ]
    }
   ],
   "source": [
    "from sklearn.metrics import accuracy_score\n",
    "\n",
    "print(\"Accuracy of Logistic Regression : \", accuracy_score(y_test, y_pred))"
   ]
  },
  {
   "cell_type": "code",
   "execution_count": null,
   "id": "09adfbb4",
   "metadata": {},
   "outputs": [],
   "source": []
  }
 ],
 "metadata": {
  "kernelspec": {
   "display_name": "Python 3 (ipykernel)",
   "language": "python",
   "name": "python3"
  },
  "language_info": {
   "codemirror_mode": {
    "name": "ipython",
    "version": 3
   },
   "file_extension": ".py",
   "mimetype": "text/x-python",
   "name": "python",
   "nbconvert_exporter": "python",
   "pygments_lexer": "ipython3",
   "version": "3.9.13"
  }
 },
 "nbformat": 4,
 "nbformat_minor": 5
}
